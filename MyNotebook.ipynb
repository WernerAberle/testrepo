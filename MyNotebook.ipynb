{
 "cells": [
  {
   "cell_type": "code",
   "execution_count": 1,
   "id": "ad3a27b7-4367-4134-886e-121b2963a775",
   "metadata": {},
   "outputs": [
    {
     "data": {
      "text/plain": [
       "2"
      ]
     },
     "execution_count": 1,
     "metadata": {},
     "output_type": "execute_result"
    }
   ],
   "source": [
    "1 + 1"
   ]
  },
  {
   "cell_type": "code",
   "execution_count": null,
   "id": "79e4aa17-018a-4cde-8c11-915f418408bf",
   "metadata": {},
   "outputs": [],
   "source": []
  },
  {
   "cell_type": "markdown",
   "id": "c6d0fbc8-c88a-44be-b87c-bf40dc3cc9ac",
   "metadata": {},
   "source": [
    "# My Title"
   ]
  },
  {
   "cell_type": "code",
   "execution_count": 1,
   "id": "165d2d72-7c4f-4666-9030-307e6bd763bc",
   "metadata": {},
   "outputs": [
    {
     "data": {
      "text/html": [
       "4"
      ],
      "text/latex": [
       "4"
      ],
      "text/markdown": [
       "4"
      ],
      "text/plain": [
       "[1] 4"
      ]
     },
     "metadata": {},
     "output_type": "display_data"
    }
   ],
   "source": [
    "2 + 2"
   ]
  },
  {
   "cell_type": "markdown",
   "id": "4809eb25-08d3-419a-831c-28dd63303b82",
   "metadata": {},
   "source": [
    "| header | header | header |\n",
    "| ------ | ------ | ------ |\n",
    "| cell | cell | cell |\n",
    "| 1 | 2 | 3 |"
   ]
  },
  {
   "cell_type": "markdown",
   "id": "502845f0-0d6d-4ce1-88b7-408cde6defd1",
   "metadata": {},
   "source": [
    "Cognitive Class https://www.cognitiveclass.ai by right-clicking and opeing in a new tab."
   ]
  },
  {
   "cell_type": "code",
   "execution_count": null,
   "id": "77ab6289-1c83-489f-b2c0-3a1ad49e67ef",
   "metadata": {},
   "outputs": [],
   "source": []
  }
 ],
 "metadata": {
  "kernelspec": {
   "display_name": "R",
   "language": "R",
   "name": "conda-env-r-r"
  },
  "language_info": {
   "codemirror_mode": "r",
   "file_extension": ".r",
   "mimetype": "text/x-r-source",
   "name": "R",
   "pygments_lexer": "r",
   "version": "3.5.1"
  }
 },
 "nbformat": 4,
 "nbformat_minor": 5
}
